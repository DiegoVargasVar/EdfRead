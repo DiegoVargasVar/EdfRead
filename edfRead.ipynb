{
 "cells": [
  {
   "cell_type": "code",
   "execution_count": 1,
   "metadata": {},
   "outputs": [],
   "source": [
    "import pyedflib as edflib\n",
    "import numpy as np\n",
    "import datetime\n",
    "import os\n"
   ]
  },
  {
   "cell_type": "code",
   "execution_count": 2,
   "metadata": {},
   "outputs": [
    {
     "ename": "OSError",
     "evalue": "can not open file, no such file or directory",
     "output_type": "error",
     "traceback": [
      "\u001b[1;31m---------------------------------------------------------------------------\u001b[0m",
      "\u001b[1;31mOSError\u001b[0m                                   Traceback (most recent call last)",
      "\u001b[1;32m<ipython-input-2-f20e8defca45>\u001b[0m in \u001b[0;36m<module>\u001b[1;34m()\u001b[0m\n\u001b[1;32m----> 1\u001b[1;33m \u001b[0mf\u001b[0m \u001b[1;33m=\u001b[0m \u001b[0medflib\u001b[0m\u001b[1;33m.\u001b[0m\u001b[0mEdfReader\u001b[0m\u001b[1;33m(\u001b[0m\u001b[1;34m\"data/test_generator.edf\"\u001b[0m\u001b[1;33m)\u001b[0m\u001b[1;33m\u001b[0m\u001b[0m\n\u001b[0m\u001b[0;32m      2\u001b[0m \u001b[0mn\u001b[0m \u001b[1;33m=\u001b[0m \u001b[0mf\u001b[0m\u001b[1;33m.\u001b[0m\u001b[0msignals_in_file\u001b[0m\u001b[1;33m\u001b[0m\u001b[0m\n\u001b[0;32m      3\u001b[0m \u001b[0msignal_labels\u001b[0m \u001b[1;33m=\u001b[0m \u001b[0mf\u001b[0m\u001b[1;33m.\u001b[0m\u001b[0mgetSignalLabels\u001b[0m\u001b[1;33m(\u001b[0m\u001b[1;33m)\u001b[0m\u001b[1;33m\u001b[0m\u001b[0m\n\u001b[0;32m      4\u001b[0m \u001b[0msigbufs\u001b[0m \u001b[1;33m=\u001b[0m \u001b[0mnp\u001b[0m\u001b[1;33m.\u001b[0m\u001b[0mzeros\u001b[0m\u001b[1;33m(\u001b[0m\u001b[1;33m(\u001b[0m\u001b[0mn\u001b[0m\u001b[1;33m,\u001b[0m \u001b[0mf\u001b[0m\u001b[1;33m,\u001b[0m\u001b[0mgetNSample\u001b[0m\u001b[1;33m(\u001b[0m\u001b[1;33m)\u001b[0m\u001b[1;33m[\u001b[0m\u001b[1;36m0\u001b[0m\u001b[1;33m]\u001b[0m\u001b[1;33m)\u001b[0m\u001b[1;33m)\u001b[0m\u001b[1;33m\u001b[0m\u001b[0m\n\u001b[0;32m      5\u001b[0m \u001b[1;33m\u001b[0m\u001b[0m\n",
      "\u001b[1;32mpyedflib\\_extensions\\_pyedflib.pyx\u001b[0m in \u001b[0;36mpyedflib._extensions._pyedflib.CyEdfReader.__init__\u001b[1;34m()\u001b[0m\n",
      "\u001b[1;32mpyedflib\\_extensions\\_pyedflib.pyx\u001b[0m in \u001b[0;36mpyedflib._extensions._pyedflib.CyEdfReader.open\u001b[1;34m()\u001b[0m\n",
      "\u001b[1;32mpyedflib\\_extensions\\_pyedflib.pyx\u001b[0m in \u001b[0;36mpyedflib._extensions._pyedflib.CyEdfReader.check_open_ok\u001b[1;34m()\u001b[0m\n",
      "\u001b[1;31mOSError\u001b[0m: can not open file, no such file or directory"
     ]
    }
   ],
   "source": [
    "f = edflib.EdfReader(\"data/test_generator.edf\")\n",
    "n = f.signals_in_file\n",
    "signal_labels = f.getSignalLabels()\n",
    "sigbufs = np.zeros((n, f,getNSample()[0]))\n",
    "\n",
    "for i in np.arrange(n):\n",
    "    sigbufs[i, :] = f.readSignal(i)\n",
    "    \n"
   ]
  },
  {
   "cell_type": "code",
   "execution_count": null,
   "metadata": {},
   "outputs": [],
   "source": [
    "Default_text = 'UTF-8'\n",
    "\n",
    "class EdfReader(edflib.EdfReader):\n",
    "        \n",
    "    def __init__(self, file_name, annotations_mode = 'all'):\n",
    "        bytes_file_name = bytes(file_name, Defaul_text) #ascii\n",
    "        super()__init__(file_name = bytes_file_name, annotations_mode = annotations_mode)\n",
    "        \n",
    "    def __enter__(self):\n",
    "        return self\n",
    "    \n",
    "    def __exit__(self, exc_type, exc_val, exc_tb):\n",
    "        self.close() #cleanup the file\n",
    "    \n",
    "    def close(self):\n",
    "        self.close()\n",
    "        \n",
    "    \n",
    "    #Funciones de canal\n",
    "    def signal_label(self, channel):\n",
    "        return self.signal_label_b(channel).decode(Default_text).strip()\n",
    "    \n",
    "    def physical_dimension(self, channel):\n",
    "        return self.physical_dimension_b(channel).decode(Default_text).strip()\n",
    "                    \n",
    "    def get_sample_per_signal(self)\n",
    "        return np.array([self.sample_in_file(chn) for chn in range(self.signals_in_file)])\n",
    "    \n",
    "    \n",
    "    def read_annotations(self):\n",
    "        annot = self.read_annotations_b()\n",
    "        for ii in range(len(annot))\n",
    "            \n",
    "            floatstr = annot[ii][1]\n",
    "            if floatstr:\n",
    "                floatstr = floatstr.decode('ascii')\n",
    "                annot[ii][1] = float(floatstr)\n",
    "            else:\n",
    "                annot[ii][1] = 0.0\n",
    "            annot[ii][2] = annot[ii][2].decode('UTF-8')\n",
    "        return annot\n",
    "    \n",
    "    \n",
    "    def get_signal_freqs(self):\n",
    "        return np.array([self.sample_frequency(chn) for chn in range(self.signals_in_file)])\n",
    "    \n",
    "        \n",
    "    def get_signal_text_labels(self):\n",
    "        return [self.signal_label(chn) for chn in range(self.signals_in_file)]\n",
    "    \n",
    "    def get_signal(self, chn):\n",
    "        nsamples = self.get_sample_per_signal()\n",
    "        if (chn < len(nsamples)):\n",
    "            x = np.zeros(nsamples[chn], dtype = np. float64)\n",
    "            \n",
    "            v = x[chn*nsamples[chn]:(chn+1)*nsamples[chn]]\n",
    "            self.read_phys_signal(chn, 0, nsamples[chn], v)\n",
    "            return x\n",
    "        else:\n",
    "            return np.array([])\n",
    "\n",
    "        \n",
    "    "
   ]
  },
  {
   "cell_type": "code",
   "execution_count": null,
   "metadata": {},
   "outputs": [],
   "source": [
    "class Edfinfo(object):\n",
    "\n",
    "\n",
    "    def __init__(self, file_name, text_encoding = Default_text):\n",
    "\n",
    "        self.TEXT_ENCODING = text_encoding  \n",
    "\n",
    "        self.cedf = edflib.EdfReader(file_name)\n",
    "        self.file_name = file_name\n",
    "        self.signal_labels = []\n",
    "        self.signal_nsamples = []\n",
    "        self.samplefreqs = []\n",
    "        \n",
    "        self.signals_in_file = self.cedf.signals_in_file\n",
    "        self.datarecords_in_file = self.cedf.datarecords_in_file\n",
    "        for ii in range(self.signals_in_file):\n",
    "            self.signal_labels.append(self.cedf.signal_label(ii).decode(Default_text).strip())\n",
    "            self.signal_nsamples.append(self.cedf.samples_in_file(ii))\n",
    "            self.samplefreqs.append(self.cedf.samplefrequency(ii))\n",
    "\n",
    "    def file_info(self):\n",
    "        print(\"file name:\", self.file_name)\n",
    "        print(\"signals in file:\", self.signals_in_file)\n",
    "\n",
    "    def file_info_long(self):\n",
    "        self.file_info()\n",
    "        for ii in range(self.signals_in_file):\n",
    "            print(\"label:\", self.signal_labels[ii], \"fs:\", self.samplefreqs[\n",
    "                  ii], \"nsamples\", self.signal_nsamples[ii]"
   ]
  }
 ],
 "metadata": {
  "kernelspec": {
   "display_name": "Python 3",
   "language": "python",
   "name": "python3"
  },
  "language_info": {
   "codemirror_mode": {
    "name": "ipython",
    "version": 3
   },
   "file_extension": ".py",
   "mimetype": "text/x-python",
   "name": "python",
   "nbconvert_exporter": "python",
   "pygments_lexer": "ipython3",
   "version": "3.6.5"
  }
 },
 "nbformat": 4,
 "nbformat_minor": 2
}
